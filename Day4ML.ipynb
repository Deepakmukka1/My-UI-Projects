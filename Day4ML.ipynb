{
  "nbformat": 4,
  "nbformat_minor": 0,
  "metadata": {
    "colab": {
      "name": "Day4ML.ipynb",
      "provenance": [],
      "authorship_tag": "ABX9TyOyEh94t3G+7S80xNn89Mfr",
      "include_colab_link": true
    },
    "kernelspec": {
      "name": "python3",
      "display_name": "Python 3"
    },
    "language_info": {
      "name": "python"
    }
  },
  "cells": [
    {
      "cell_type": "markdown",
      "metadata": {
        "id": "view-in-github",
        "colab_type": "text"
      },
      "source": [
        "<a href=\"https://colab.research.google.com/github/Deepakmukka1/My-UI-Projects/blob/master/Day4ML.ipynb\" target=\"_parent\"><img src=\"https://colab.research.google.com/assets/colab-badge.svg\" alt=\"Open In Colab\"/></a>"
      ]
    },
    {
      "cell_type": "markdown",
      "source": [
        "# ⚡ What is ML?\n",
        "\n",
        "## **“Machine Learning is the field of study that gives computers the ability to learn without explicitly programmed.”**\n",
        "\n",
        "\n",
        "\n",
        "Refer this image: https://github.com/Deepakmukka1/ML-BC/blob/main/image.png\n",
        "\n",
        "Ex: Recommendation systems youtube, instagram ........ many more\n",
        "\n",
        "\n",
        "## Types of ML algos\n",
        "1. Supervised\n",
        "2. unsupervised\n",
        "3. reinforcement learning\n",
        "\n",
        "https://drive.google.com/file/d/1vfkWUgoQQAwNwDdJkhN_YdphC8psVAvH/view?usp=sharing\n",
        "https://www.aitude.com/supervised-vs-unsupervised-vs-reinforcement/ \n",
        "\n",
        "![](https://1394217531-files.gitbook.io/~/files/v0/b/gitbook-legacy-files/o/assets%2F-LvBP1svpACTB1R1x_U4%2F-LwQbcbsD6nnVTHSgxV1%2F-LwQcH6NWMz6kjAEqpge%2Fimage.png?alt=media&token=2ccddf94-0321-472e-a2dd-49e7ab63914d)\n",
        "\n",
        "\n",
        "\n"
      ],
      "metadata": {
        "id": "kRWo5ge3kwGR"
      }
    },
    {
      "cell_type": "code",
      "source": [
        ""
      ],
      "metadata": {
        "id": "Ut9KEedCnosE"
      },
      "execution_count": null,
      "outputs": []
    },
    {
      "cell_type": "code",
      "source": [
        ""
      ],
      "metadata": {
        "id": "YNj5P73Fnd0w"
      },
      "execution_count": null,
      "outputs": []
    },
    {
      "cell_type": "code",
      "execution_count": null,
      "metadata": {
        "id": "cf7QjJYgkt-3"
      },
      "outputs": [],
      "source": [
        ""
      ]
    }
  ]
}